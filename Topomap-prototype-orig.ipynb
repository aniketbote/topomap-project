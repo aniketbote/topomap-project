{
 "cells": [
  {
   "cell_type": "code",
   "execution_count": 11,
   "id": "50915e07",
   "metadata": {},
   "outputs": [],
   "source": [
    "import scipy\n",
    "import numpy as np\n",
    "from sklearn.metrics import pairwise_distances\n",
    "import networkx as nx\n",
    "import pandas as pd\n",
    "from ripser import Rips\n",
    "import matplotlib.pyplot as plt\n",
    "from sklearn import datasets\n",
    "# from convhull import convhull"
   ]
  },
  {
   "cell_type": "code",
   "execution_count": 12,
   "id": "8bf4c428",
   "metadata": {},
   "outputs": [],
   "source": [
    "# iris = datasets.load_iris()\n",
    "# X = iris.data  # we only take the first two features.\n",
    "# y = iris.target\n",
    "# POINTS_ARRAY = X"
   ]
  },
  {
   "cell_type": "code",
   "execution_count": 13,
   "id": "ade2c994",
   "metadata": {},
   "outputs": [
    {
     "data": {
      "text/plain": [
       "array([[7.71320643, 0.20751949, 6.33648235, 7.48803883, 4.98507012,\n",
       "        2.24796646],\n",
       "       [1.98062865, 7.60530712, 1.69110837, 0.88339814, 6.85359818,\n",
       "        9.53393346],\n",
       "       [0.03948266, 5.12192263, 8.12620962, 6.12526067, 7.21755317,\n",
       "        2.91876068],\n",
       "       [9.17774123, 7.14575783, 5.42544368, 1.42170048, 3.7334076 ,\n",
       "        6.74133615],\n",
       "       [4.41833174, 4.34013993, 6.17766978, 5.13138243, 6.50397182,\n",
       "        6.01038953],\n",
       "       [8.05223197, 5.21647152, 9.08648881, 3.19236089, 0.90459349,\n",
       "        3.00700057],\n",
       "       [1.13984362, 8.28681326, 0.46896319, 6.26287148, 5.47586156,\n",
       "        8.19286996],\n",
       "       [1.9894754 , 8.56850302, 3.51652639, 7.54647692, 2.95961707,\n",
       "        8.8393648 ],\n",
       "       [3.25511638, 1.65015898, 3.92529244, 0.93460375, 8.21105658,\n",
       "        1.5115202 ],\n",
       "       [3.84114449, 9.44260712, 9.87625475, 4.56304547, 8.26122844,\n",
       "        2.51374134]])"
      ]
     },
     "execution_count": 13,
     "metadata": {},
     "output_type": "execute_result"
    }
   ],
   "source": [
    "np.random.seed(10)\n",
    "# POINTS_ARRAY = np.random.randint(1, 15, size = (6,3))\n",
    "POINTS_ARRAY = np.random.uniform(size = (10,6)) * 10\n",
    "POINTS_ARRAY\n",
    "\n",
    "# POINTS_ARRAY = pd.read_csv('data/iris.csv', header = None)\n",
    "# POINTS_ARRAY\n",
    "# POINTS_ARRAY = np.array(POINTS_ARRAY)\n",
    "# # POINTS_ARRAY.shape\n",
    "# POINTS_ARRAY"
   ]
  },
  {
   "cell_type": "code",
   "execution_count": null,
   "id": "d4dbb96b",
   "metadata": {},
   "outputs": [],
   "source": [
    "# xdf = pd.DataFrame(POINTS_ARRAY, columns = ['x1', 'x2', 'x3'])\n",
    "# xdf.to_csv('3d-data-6points-seed-10.csv', index = False)"
   ]
  },
  {
   "cell_type": "code",
   "execution_count": 14,
   "id": "35d31d74",
   "metadata": {},
   "outputs": [
    {
     "data": {
      "text/plain": [
       "array([[ 0.  , 14.47,  9.67, 10.47,  7.07,  8.27, 13.42, 12.58,  9.04,\n",
       "        11.5 ],\n",
       "       [14.47,  0.  , 11.08,  9.15,  8.2 , 13.44,  5.94,  8.02, 10.41,\n",
       "        11.77],\n",
       "       [ 9.67, 11.08,  0.  , 11.99,  5.89, 10.66, 10.04,  9.6 ,  8.36,\n",
       "         6.31],\n",
       "       [10.47,  9.15, 11.99,  0.  ,  7.28,  6.59, 10.91,  9.99, 10.73,\n",
       "        10.09],\n",
       "       [ 7.07,  8.2 ,  5.89,  7.28,  0.  ,  8.16,  8.12,  7.57,  7.38,\n",
       "         7.46],\n",
       "       [ 8.27, 13.44, 10.66,  6.59,  8.16,  0.  , 13.74, 11.67, 11.09,\n",
       "         9.62],\n",
       "       [13.42,  5.94, 10.04, 10.91,  8.12, 13.74,  0.  ,  4.3 , 11.87,\n",
       "        11.83],\n",
       "       [12.58,  8.02,  9.6 ,  9.99,  7.57, 11.67,  4.3 ,  0.  , 13.21,\n",
       "        11.03],\n",
       "       [ 9.04, 10.41,  8.36, 10.73,  7.38, 11.09, 11.87, 13.21,  0.  ,\n",
       "        10.52],\n",
       "       [11.5 , 11.77,  6.31, 10.09,  7.46,  9.62, 11.83, 11.03, 10.52,\n",
       "         0.  ]])"
      ]
     },
     "execution_count": 14,
     "metadata": {},
     "output_type": "execute_result"
    }
   ],
   "source": [
    "distance_matrix = pairwise_distances(POINTS_ARRAY).round(2)\n",
    "distance_matrix"
   ]
  },
  {
   "cell_type": "code",
   "execution_count": 15,
   "id": "a47d5cf2",
   "metadata": {},
   "outputs": [
    {
     "name": "stdout",
     "output_type": "stream",
     "text": [
      "  (0, 4)\t7.07\n",
      "  (2, 9)\t6.31\n",
      "  (4, 2)\t5.89\n",
      "  (4, 3)\t7.28\n",
      "  (4, 8)\t7.38\n",
      "  (5, 3)\t6.59\n",
      "  (6, 1)\t5.94\n",
      "  (6, 7)\t4.3\n",
      "  (7, 4)\t7.57\n"
     ]
    }
   ],
   "source": [
    "mst = scipy.sparse.csgraph.minimum_spanning_tree(distance_matrix)\n",
    "print(mst)"
   ]
  },
  {
   "cell_type": "code",
   "execution_count": null,
   "id": "458ededd",
   "metadata": {},
   "outputs": [],
   "source": [
    "# G = nx.from_numpy_matrix(distance_matrix, create_using=nx.DiGraph)\n",
    "# layout = nx.spring_layout(G)\n",
    "# nx.draw(G, layout, with_labels = True)\n",
    "# labels = nx.get_edge_attributes(G, \"weight\")\n",
    "# _ = nx.draw_networkx_edge_labels(G, pos=layout, edge_labels=labels)"
   ]
  },
  {
   "cell_type": "code",
   "execution_count": null,
   "id": "38ed7dc4",
   "metadata": {},
   "outputs": [],
   "source": [
    "# G = nx.from_numpy_matrix(mst.toarray(), create_using=nx.DiGraph)\n",
    "# layout = nx.spring_layout(G)\n",
    "# nx.draw(G, layout, with_labels = True)\n",
    "# labels = nx.get_edge_attributes(G, \"weight\")\n",
    "# _ = nx.draw_networkx_edge_labels(G, pos=layout, edge_labels=labels)"
   ]
  },
  {
   "cell_type": "code",
   "execution_count": 16,
   "id": "02da74ae",
   "metadata": {},
   "outputs": [
    {
     "data": {
      "text/html": [
       "<div>\n",
       "<style scoped>\n",
       "    .dataframe tbody tr th:only-of-type {\n",
       "        vertical-align: middle;\n",
       "    }\n",
       "\n",
       "    .dataframe tbody tr th {\n",
       "        vertical-align: top;\n",
       "    }\n",
       "\n",
       "    .dataframe thead th {\n",
       "        text-align: right;\n",
       "    }\n",
       "</style>\n",
       "<table border=\"1\" class=\"dataframe\">\n",
       "  <thead>\n",
       "    <tr style=\"text-align: right;\">\n",
       "      <th></th>\n",
       "      <th>src</th>\n",
       "      <th>dst</th>\n",
       "      <th>dist</th>\n",
       "    </tr>\n",
       "  </thead>\n",
       "  <tbody>\n",
       "    <tr>\n",
       "      <th>0</th>\n",
       "      <td>6</td>\n",
       "      <td>7</td>\n",
       "      <td>4.30</td>\n",
       "    </tr>\n",
       "    <tr>\n",
       "      <th>1</th>\n",
       "      <td>4</td>\n",
       "      <td>2</td>\n",
       "      <td>5.89</td>\n",
       "    </tr>\n",
       "    <tr>\n",
       "      <th>2</th>\n",
       "      <td>6</td>\n",
       "      <td>1</td>\n",
       "      <td>5.94</td>\n",
       "    </tr>\n",
       "    <tr>\n",
       "      <th>3</th>\n",
       "      <td>2</td>\n",
       "      <td>9</td>\n",
       "      <td>6.31</td>\n",
       "    </tr>\n",
       "    <tr>\n",
       "      <th>4</th>\n",
       "      <td>5</td>\n",
       "      <td>3</td>\n",
       "      <td>6.59</td>\n",
       "    </tr>\n",
       "    <tr>\n",
       "      <th>5</th>\n",
       "      <td>0</td>\n",
       "      <td>4</td>\n",
       "      <td>7.07</td>\n",
       "    </tr>\n",
       "    <tr>\n",
       "      <th>6</th>\n",
       "      <td>4</td>\n",
       "      <td>3</td>\n",
       "      <td>7.28</td>\n",
       "    </tr>\n",
       "    <tr>\n",
       "      <th>7</th>\n",
       "      <td>4</td>\n",
       "      <td>8</td>\n",
       "      <td>7.38</td>\n",
       "    </tr>\n",
       "    <tr>\n",
       "      <th>8</th>\n",
       "      <td>7</td>\n",
       "      <td>4</td>\n",
       "      <td>7.57</td>\n",
       "    </tr>\n",
       "  </tbody>\n",
       "</table>\n",
       "</div>"
      ],
      "text/plain": [
       "   src  dst  dist\n",
       "0    6    7  4.30\n",
       "1    4    2  5.89\n",
       "2    6    1  5.94\n",
       "3    2    9  6.31\n",
       "4    5    3  6.59\n",
       "5    0    4  7.07\n",
       "6    4    3  7.28\n",
       "7    4    8  7.38\n",
       "8    7    4  7.57"
      ]
     },
     "execution_count": 16,
     "metadata": {},
     "output_type": "execute_result"
    }
   ],
   "source": [
    "mst_cords = mst.tocoo()\n",
    "mst_df = pd.DataFrame({'src':mst_cords.row, 'dst':mst_cords.col, 'dist':mst_cords.data})\n",
    "mst_df = mst_df.sort_values(by='dist').reset_index(drop = True)\n",
    "# mst_df.iloc[4,0] = 0\n",
    "# mst_df.iloc[4,1] = 3\n",
    "mst_df"
   ]
  },
  {
   "cell_type": "code",
   "execution_count": 21,
   "id": "ba5e0421",
   "metadata": {},
   "outputs": [
    {
     "data": {
      "text/html": [
       "<div>\n",
       "<style scoped>\n",
       "    .dataframe tbody tr th:only-of-type {\n",
       "        vertical-align: middle;\n",
       "    }\n",
       "\n",
       "    .dataframe tbody tr th {\n",
       "        vertical-align: top;\n",
       "    }\n",
       "\n",
       "    .dataframe thead th {\n",
       "        text-align: right;\n",
       "    }\n",
       "</style>\n",
       "<table border=\"1\" class=\"dataframe\">\n",
       "  <thead>\n",
       "    <tr style=\"text-align: right;\">\n",
       "      <th></th>\n",
       "      <th>src</th>\n",
       "      <th>dst</th>\n",
       "      <th>dist</th>\n",
       "    </tr>\n",
       "  </thead>\n",
       "  <tbody>\n",
       "    <tr>\n",
       "      <th>0</th>\n",
       "      <td>6</td>\n",
       "      <td>7</td>\n",
       "      <td>4.30</td>\n",
       "    </tr>\n",
       "    <tr>\n",
       "      <th>1</th>\n",
       "      <td>2</td>\n",
       "      <td>4</td>\n",
       "      <td>5.89</td>\n",
       "    </tr>\n",
       "    <tr>\n",
       "      <th>2</th>\n",
       "      <td>1</td>\n",
       "      <td>6</td>\n",
       "      <td>5.94</td>\n",
       "    </tr>\n",
       "    <tr>\n",
       "      <th>3</th>\n",
       "      <td>2</td>\n",
       "      <td>9</td>\n",
       "      <td>6.31</td>\n",
       "    </tr>\n",
       "    <tr>\n",
       "      <th>4</th>\n",
       "      <td>3</td>\n",
       "      <td>5</td>\n",
       "      <td>6.59</td>\n",
       "    </tr>\n",
       "    <tr>\n",
       "      <th>5</th>\n",
       "      <td>0</td>\n",
       "      <td>4</td>\n",
       "      <td>7.07</td>\n",
       "    </tr>\n",
       "    <tr>\n",
       "      <th>6</th>\n",
       "      <td>3</td>\n",
       "      <td>4</td>\n",
       "      <td>7.28</td>\n",
       "    </tr>\n",
       "    <tr>\n",
       "      <th>7</th>\n",
       "      <td>4</td>\n",
       "      <td>8</td>\n",
       "      <td>7.38</td>\n",
       "    </tr>\n",
       "    <tr>\n",
       "      <th>8</th>\n",
       "      <td>4</td>\n",
       "      <td>7</td>\n",
       "      <td>7.57</td>\n",
       "    </tr>\n",
       "  </tbody>\n",
       "</table>\n",
       "</div>"
      ],
      "text/plain": [
       "   src  dst  dist\n",
       "0    6    7  4.30\n",
       "1    2    4  5.89\n",
       "2    1    6  5.94\n",
       "3    2    9  6.31\n",
       "4    3    5  6.59\n",
       "5    0    4  7.07\n",
       "6    3    4  7.28\n",
       "7    4    8  7.38\n",
       "8    4    7  7.57"
      ]
     },
     "execution_count": 21,
     "metadata": {},
     "output_type": "execute_result"
    }
   ],
   "source": [
    "for i in range(len(mst_df)):\n",
    "    if mst_df['src'][i] > mst_df['dst'][i]:\n",
    "        mst_df.iloc[0,i], mst_df[1,i] = mst_df[1,i], mst_df[0,i]\n",
    "mst_df"
   ]
  },
  {
   "cell_type": "code",
   "execution_count": null,
   "id": "28ffd55b",
   "metadata": {},
   "outputs": [],
   "source": []
  },
  {
   "cell_type": "code",
   "execution_count": null,
   "id": "d903b624",
   "metadata": {},
   "outputs": [],
   "source": [
    "class Component:\n",
    "    def __init__(self, vertices, polygon):\n",
    "        self.vertices = vertices\n",
    "        self.polygon = polygon"
   ]
  },
  {
   "cell_type": "code",
   "execution_count": null,
   "id": "85c2d57f",
   "metadata": {},
   "outputs": [],
   "source": [
    "class NaiveDisjoinSet:\n",
    "    def __init__(self, n_points):\n",
    "        self.universal = [Component({i}, [(0,0), (0,0)]) for i in range(n_points)]\n",
    "    def Find(self, a):\n",
    "        for ele in self.universal:\n",
    "            if a in ele.vertices:\n",
    "                return ele\n",
    "        raise Exception(\"Element Not Found\")\n",
    "    def Union(self, a, b, merged_hull):\n",
    "        s1 = self.Find(a)\n",
    "        s2 = self.Find(b)\n",
    "        if s1.vertices == s2.vertices:\n",
    "            raise Exception(\"Elements belong to same set\")\n",
    "        s3 = s1.vertices.union(s2.vertices)\n",
    "        nc = Component(s3, merged_hull)\n",
    "        self.universal.remove(s1)\n",
    "        self.universal.remove(s2)\n",
    "        self.universal.append(nc)\n",
    "        \n",
    "        \n",
    "        \n",
    "# nd = NaiveDisjoinSet(5)\n",
    "# print(nd.universal[0].vertices)\n",
    "# nd.Find(4).vertices\n",
    "# nd.Union(1, 2, [(0,0), (0,1), (0,0)])\n",
    "# nd.Find(2)\n",
    "# nd.Union(3, 1)\n",
    "# nd.Find(1)\n",
    "# nd.Find(2)\n",
    "# nd.Find(4)\n",
    "# nd.Find(2)"
   ]
  },
  {
   "cell_type": "code",
   "execution_count": null,
   "id": "7460299d",
   "metadata": {},
   "outputs": [],
   "source": [
    "# np.Inf"
   ]
  },
  {
   "cell_type": "code",
   "execution_count": null,
   "id": "29eca797",
   "metadata": {},
   "outputs": [],
   "source": [
    "def find_angle(p1, p2, trans):\n",
    "    print(\"*\"*10)\n",
    "    x = p2[0] - p1[0]\n",
    "    y = p2[1] - p1[1]\n",
    "    n = np.sqrt(x*x + y*y)\n",
    "    print(f\"x: {x}  y: {y} mag: {n}\")\n",
    "    x = x/n\n",
    "    y = y/n\n",
    "    print(f\"DIV x: {x}  y: {y}\")\n",
    "    trans['cos'] = x\n",
    "    trans['sin'] = np.sqrt(1 - x*x)\n",
    "    \n",
    "    if y >= 0:\n",
    "        trans['sin'] = -trans['sin']\n",
    "        print(f\"FIND ANGLE NEG trans: (tx,ty):({trans['tx'],trans['ty']})  (sin,cos):({trans['sin'],trans['cos']})\")\n",
    "    print(f\"FIND ANGLE trans: (tx,ty):({trans['tx'],trans['ty']})  (sin,cos):({trans['sin'],trans['cos']})\")\n",
    "    print(\"*\"*10)\n",
    "    return trans\n",
    "    \n",
    "    \n",
    "    "
   ]
  },
  {
   "cell_type": "code",
   "execution_count": null,
   "id": "377d2bce",
   "metadata": {},
   "outputs": [],
   "source": [
    "def alignHull(hull, p1, top):\n",
    "    v= -1\n",
    "    d2 = np.Inf\n",
    "#     print(f\"Before iteration v: {v} d2: {d2}\")\n",
    "    for i, p2 in enumerate(hull):\n",
    "        d = np.linalg.norm(np.array(p1) - np.array(p2))\n",
    "        if d < d2:\n",
    "            v = i\n",
    "            d2 = d\n",
    "#         print(f\"Iteration {i} v: {v} d2: {d2}\")\n",
    "    print(f\"Align Hull After Iteration v: {v} d: {d2}\")\n",
    "    if top:\n",
    "        v1 = hull[v]\n",
    "        v2 = hull[v+1]\n",
    "    else:\n",
    "        if v == 0:\n",
    "            v = -1\n",
    "        v1 = hull[v]\n",
    "        v2 = hull[v-1]\n",
    "        \n",
    "        \n",
    "    print(f\"Align Hull v1: {v1} v2:{v2}\")\n",
    "    trans = {}\n",
    "    trans['tx'] = -hull[v][0]\n",
    "    trans['ty'] = -hull[v][1]\n",
    "    print(f\"trans: {trans}\")\n",
    "    if len(hull) > 2:\n",
    "        trans = find_angle(v1, v2, trans)\n",
    "        print(f\"COMPUTED trans: (tx,ty):({trans['tx'],trans['ty']})  (sin,cos):({trans['sin'],trans['cos']})\")\n",
    "    else:\n",
    "        trans['sin'] = 0\n",
    "        trans['cos'] = 1\n",
    "        print(f\"ASSIGNED trans: (tx,ty):({trans['tx'],trans['ty']})  (sin,cos):({trans['sin'],trans['cos']})\")\n",
    "    return trans\n",
    "        \n",
    "        "
   ]
  },
  {
   "cell_type": "code",
   "execution_count": null,
   "id": "e8c33ab8",
   "metadata": {},
   "outputs": [],
   "source": [
    "def transform(p, t, yoff):\n",
    "    x = p[0] + t['tx']\n",
    "    y = p[1] + t['ty']\n",
    "    xx = x*t['cos'] - y*t['sin']\n",
    "    yy = x*t['sin'] + y*t['cos']\n",
    "    yy += yoff\n",
    "    return (xx, yy)"
   ]
  },
  {
   "cell_type": "code",
   "execution_count": null,
   "id": "d3877f70",
   "metadata": {},
   "outputs": [],
   "source": [
    "def transform_component(c, t, yoff):\n",
    "    global verts\n",
    "    for v in c.vertices:\n",
    "        verts[v] = transform(verts[v], t, yoff)\n",
    "        \n",
    "        \n",
    "        "
   ]
  },
  {
   "cell_type": "code",
   "execution_count": null,
   "id": "4b3878a5",
   "metadata": {},
   "outputs": [],
   "source": [
    "# def dummy_convex(itr):\n",
    "#     chuls = [\n",
    "#         [(0, 0), (0, 4.58258), (0, 0)],\n",
    "#         [(0, 0), (0, 7.14143), (4.58258, 7.14143), (0, 0)],\n",
    "#         [(0, 0), (0, 7.61577), (0, 0)],\n",
    "#         [(0, 0), (0, 9.48683), (7.61577, 9.48683), (0, 0)],\n",
    "#         [(0, 0), (0, 9.48683), (7.61577, 18.9737), (7.61577, 9.48683), (7.14143, -4.58258), (0, 0)]\n",
    "#     ]\n",
    "#     return chuls[itr]"
   ]
  },
  {
   "cell_type": "code",
   "execution_count": null,
   "id": "1c63c5b8",
   "metadata": {},
   "outputs": [],
   "source": [
    "def compute_convex_hull(points):\n",
    "    global verts\n",
    "    convex_hull = []\n",
    "    if points.shape[0] == 1:\n",
    "        convex_hull.append(tuple(points[0]))\n",
    "        convex_hull.append(tuple(points[0]))\n",
    "    elif points.shape[0] ==2:\n",
    "        convex_hull.append(tuple(points[0]))\n",
    "        convex_hull.append(tuple(points[1]))\n",
    "        convex_hull.append(tuple(points[0]))\n",
    "    else:\n",
    "        \n",
    "        n_hull= list(scipy.spatial.ConvexHull(points).vertices)\n",
    "        n_hull.append(n_hull[0])\n",
    "        convex_hull = [tuple(points[i]) for i in n_hull]\n",
    "    return convex_hull\n",
    "        "
   ]
  },
  {
   "cell_type": "code",
   "execution_count": null,
   "id": "3c26558d",
   "metadata": {},
   "outputs": [],
   "source": [
    "def mergeComponents(c1_o,c2_o,v1,v2,length):\n",
    "    print('$'*50)\n",
    "    global verts\n",
    "    c1 = c1_o.vertices\n",
    "    c2 = c2_o.vertices\n",
    "    merged = set(list(c1)+list(c2))\n",
    "    \n",
    "    print(f'merged: {merged}')\n",
    "    if length > 0:\n",
    "        t1 = alignHull(c1_o.polygon, verts[v1], True)\n",
    "        print(\"t1: \", t1)\n",
    "        transform_component(c1_o, t1, 0)\n",
    "        t2 = alignHull(c2_o.polygon, verts[v2], False)\n",
    "        print(\"t2: \", t2)\n",
    "        transform_component(c2_o, t2, length)\n",
    "        points = np.array([list(verts[v]) for v in merged])\n",
    "        print(\"points: \", points)\n",
    "        n_hull= compute_convex_hull(points)\n",
    "#         n_hull= dummy_convex(itttttt)\n",
    "        print(\"n_hull: \",n_hull)\n",
    "    else:\n",
    "        raise Exception(\"Same co-ordinates\")\n",
    "    print('$'*50)\n",
    "    return n_hull\n",
    "            \n",
    "    "
   ]
  },
  {
   "cell_type": "code",
   "execution_count": null,
   "id": "1a741265",
   "metadata": {},
   "outputs": [],
   "source": [
    "nd = NaiveDisjoinSet(len(POINTS_ARRAY))\n",
    "\n",
    "verts = {}\n",
    "for i in range(len(POINTS_ARRAY)):\n",
    "    verts[i] = (0,0)\n",
    "    \n",
    "for i in range(len(mst_df)):\n",
    "    print(f\"Iteration: {i}\")\n",
    "    p1 = mst_df[\"src\"][i]\n",
    "    p2 = mst_df[\"dst\"][i]\n",
    "    \n",
    "    print(f\"p1: {p1}  p2: {p2}\")\n",
    "\n",
    "    c1 = nd.Find(p1)\n",
    "    c2 = nd.Find(p2)\n",
    "    print(f\"c1: {c1.vertices}  c2: {c2.vertices}\")\n",
    "    if c1.vertices == c2.vertices :\n",
    "        print(\"Error\")\n",
    "    hull = mergeComponents(c1,c2,p1,p2,mst_df[\"dist\"][i])\n",
    "    nd.Union(p1, p2, hull)\n",
    "    print('-'*100)\n",
    "    \n",
    "    # Plotting\n",
    "    \n",
    "\n",
    "print(verts)"
   ]
  },
  {
   "cell_type": "code",
   "execution_count": null,
   "id": "14f56895",
   "metadata": {},
   "outputs": [],
   "source": [
    "verts"
   ]
  },
  {
   "cell_type": "code",
   "execution_count": null,
   "id": "a91500ca",
   "metadata": {},
   "outputs": [],
   "source": [
    "POINTS_ARRAY"
   ]
  },
  {
   "cell_type": "code",
   "execution_count": null,
   "id": "66cce7ba",
   "metadata": {},
   "outputs": [],
   "source": [
    "tpoints = np.array([list(e) for e in verts.values()])\n",
    "tpoints"
   ]
  },
  {
   "cell_type": "code",
   "execution_count": null,
   "id": "3cc5b6f8",
   "metadata": {},
   "outputs": [],
   "source": [
    "import matplotlib.pyplot as plt\n"
   ]
  },
  {
   "cell_type": "code",
   "execution_count": null,
   "id": "970aae64",
   "metadata": {},
   "outputs": [],
   "source": [
    "ot_df = pd.DataFrame(tpoints)\n",
    "# ot_df.to_csv('outpy.csv', header = False, index = False)\n",
    "ot_df['y'] = y\n",
    "ot_df"
   ]
  },
  {
   "cell_type": "code",
   "execution_count": null,
   "id": "27b3e2ad",
   "metadata": {},
   "outputs": [],
   "source": [
    "!pip install seaborn"
   ]
  },
  {
   "cell_type": "code",
   "execution_count": null,
   "id": "92c68475",
   "metadata": {},
   "outputs": [],
   "source": [
    "import seaborn as sns\n",
    "sns.scatterplot(data = ot_df, x=0, y= 1, hue = 'y')\n"
   ]
  },
  {
   "cell_type": "code",
   "execution_count": null,
   "id": "151b13e5",
   "metadata": {},
   "outputs": [],
   "source": [
    "rips = Rips()\n",
    "diagrams = rips.fit_transform(POINTS_ARRAY)\n",
    "rips.plot(diagrams)\n"
   ]
  },
  {
   "cell_type": "code",
   "execution_count": null,
   "id": "add1a69d",
   "metadata": {},
   "outputs": [],
   "source": [
    "rips = Rips()\n",
    "diagrams = rips.fit_transform(tpoints)\n",
    "rips.plot(diagrams)\n"
   ]
  },
  {
   "cell_type": "code",
   "execution_count": null,
   "id": "ce9d4c4d",
   "metadata": {},
   "outputs": [],
   "source": [
    "x_coordinates = [6.720628116858413, 0.0, 12.001925653366255, 0.14961699462148648, 6.580329943064301, 0.0]\n",
    "y_coordinates = [-8.630437747638283, 0.0, -5.016733973984863, -1.0429676971940935, 1.243519480513788, 9.486832980505138]"
   ]
  },
  {
   "cell_type": "code",
   "execution_count": null,
   "id": "5939d3bf",
   "metadata": {},
   "outputs": [],
   "source": [
    "cpoints = np.array([[i, j] for i,j in zip(x_coordinates, y_coordinates)])\n",
    "cpoints"
   ]
  },
  {
   "cell_type": "code",
   "execution_count": null,
   "id": "a73c0a18",
   "metadata": {},
   "outputs": [],
   "source": [
    "rips = Rips()\n",
    "diagrams = rips.fit_transform(cpoints)\n",
    "rips.plot(diagrams)\n"
   ]
  },
  {
   "cell_type": "code",
   "execution_count": null,
   "id": "112450a2",
   "metadata": {},
   "outputs": [],
   "source": [
    "c1 in nd.universal"
   ]
  },
  {
   "cell_type": "code",
   "execution_count": null,
   "id": "815f1909",
   "metadata": {},
   "outputs": [],
   "source": [
    "fig, ax = plt.subplots(5, 2)"
   ]
  },
  {
   "cell_type": "code",
   "execution_count": null,
   "id": "b90d9a77",
   "metadata": {},
   "outputs": [],
   "source": [
    "verts"
   ]
  },
  {
   "cell_type": "code",
   "execution_count": null,
   "id": "ae553900",
   "metadata": {},
   "outputs": [],
   "source": [
    "def get_plot_points(d):\n",
    "    tpoints = np.array([list(e) for e in d.values()])\n",
    "    return tpoints[:,0],tpoints[:,1]\n",
    "    "
   ]
  },
  {
   "cell_type": "code",
   "execution_count": null,
   "id": "11f7eb97",
   "metadata": {},
   "outputs": [],
   "source": [
    "get_plot_points(verts)"
   ]
  },
  {
   "cell_type": "code",
   "execution_count": null,
   "id": "fc9b886b",
   "metadata": {},
   "outputs": [],
   "source": [
    "nd = NaiveDisjoinSet(len(POINTS_ARRAY))\n",
    "\n",
    "verts = {}\n",
    "for i in range(len(POINTS_ARRAY)):\n",
    "    verts[i] = (0,0)\n",
    "    \n",
    "fig, ax = plt.subplots(len(mst_df), 2, sharex = True, sharey = True, figsize = (12,24))\n",
    "    \n",
    "for i in range(len(mst_df)):\n",
    "    x_points, y_points = get_plot_points(verts)\n",
    "    ax[i][0].scatter(x_points, y_points)\n",
    "    for j in range(len(x_points)):\n",
    "        ax[i][0].text(x_points[j], y_points[j], j)\n",
    "        \n",
    "    p1 = mst_df[\"src\"][i]\n",
    "    p2 = mst_df[\"dst\"][i]\n",
    "\n",
    "    c1 = nd.Find(p1)\n",
    "    c2 = nd.Find(p2)\n",
    "    print(f\"c1: {c1.vertices}  c2: {c2.vertices}\")\n",
    "    if c1.vertices == c2.vertices :\n",
    "        print(\"Error\")\n",
    "    hull = mergeComponents(c1,c2,p1,p2,mst_df[\"dist\"][i])\n",
    "    print(hull)\n",
    "    nd.Union(p1, p2, hull)\n",
    "    print('-'*10)\n",
    "    \n",
    "    # Plotting\n",
    "    x_points, y_points = get_plot_points(verts)\n",
    "    ax[i][1].scatter(x_points, y_points)\n",
    "    for j in range(len(x_points)):\n",
    "        ax[i][1].text(x_points[j], y_points[j], j)\n",
    "    \n",
    "\n"
   ]
  },
  {
   "cell_type": "code",
   "execution_count": null,
   "id": "d442a215",
   "metadata": {},
   "outputs": [],
   "source": [
    "plt.show()"
   ]
  },
  {
   "cell_type": "code",
   "execution_count": null,
   "id": "0f00c384",
   "metadata": {},
   "outputs": [],
   "source": [
    "a = np.array([[0., 0.],\n",
    " [4.58, 7.14],\n",
    " [0. ,7.14]])\n",
    "a.shape"
   ]
  },
  {
   "cell_type": "code",
   "execution_count": null,
   "id": "706e0cf8",
   "metadata": {},
   "outputs": [],
   "source": [
    "all_vars = ['Qa','Qc','Qi','QJ','Qt','Qu','Qw','Qbb','Qs','Qv','Qx','Qz','Qbk:n','Qbk:0Bk:0','QbB','QBk:n','QRn','Qg','QGn','QVn']"
   ]
  },
  {
   "cell_type": "code",
   "execution_count": null,
   "id": "0ca5aa46",
   "metadata": {},
   "outputs": [],
   "source": [
    "for var in all_vars:\n",
    "    try:\n",
    "        hobj = scipy.spatial.ConvexHull(a,qhull_options = var)\n",
    "        print(hobj.vertices)\n",
    "    except:\n",
    "        print(var)"
   ]
  },
  {
   "cell_type": "code",
   "execution_count": null,
   "id": "1cfa0145",
   "metadata": {},
   "outputs": [],
   "source": [
    "hobj.vertices"
   ]
  },
  {
   "cell_type": "code",
   "execution_count": null,
   "id": "c277ed43",
   "metadata": {},
   "outputs": [],
   "source": [
    "[tuple(a[i]) for i in [0,1,2,0]]"
   ]
  },
  {
   "cell_type": "code",
   "execution_count": null,
   "id": "0a6c6f92",
   "metadata": {},
   "outputs": [],
   "source": [
    "a.shape"
   ]
  },
  {
   "cell_type": "code",
   "execution_count": null,
   "id": "023ccdc9",
   "metadata": {},
   "outputs": [],
   "source": [
    "n_hull= list(scipy.spatial.ConvexHull(a).vertices)\n",
    "n_hull\n",
    "\n",
    "# convex_hull = [tuple(verts[i]) for i in n_hull]"
   ]
  },
  {
   "cell_type": "code",
   "execution_count": null,
   "id": "a1cc87ce",
   "metadata": {},
   "outputs": [],
   "source": [
    "n_hull.append(n_hull[0])"
   ]
  },
  {
   "cell_type": "code",
   "execution_count": null,
   "id": "ad147867",
   "metadata": {},
   "outputs": [],
   "source": [
    "n_hull"
   ]
  },
  {
   "cell_type": "code",
   "execution_count": null,
   "id": "ac7a4365",
   "metadata": {},
   "outputs": [],
   "source": [
    "convex_hull = [tuple(verts[i]) for i in n_hull]\n",
    "convex_hull"
   ]
  },
  {
   "cell_type": "code",
   "execution_count": null,
   "id": "45da14dd",
   "metadata": {},
   "outputs": [],
   "source": [
    "import cv2"
   ]
  },
  {
   "cell_type": "code",
   "execution_count": null,
   "id": "1fc350dd",
   "metadata": {},
   "outputs": [],
   "source": [
    "a = np.array([[[0., 0.  ]],\n",
    " [[4.58, 7.14]],\n",
    " [[0. ,7.14]],\n",
    "             ])\n",
    "a.shape"
   ]
  },
  {
   "cell_type": "code",
   "execution_count": null,
   "id": "7df134c4",
   "metadata": {},
   "outputs": [],
   "source": []
  },
  {
   "cell_type": "code",
   "execution_count": null,
   "id": "d70f6182",
   "metadata": {},
   "outputs": [],
   "source": [
    "hull = cv2.convexHull(a)"
   ]
  },
  {
   "cell_type": "code",
   "execution_count": null,
   "id": "39c16e5f",
   "metadata": {},
   "outputs": [],
   "source": [
    "!pip install opencv-python"
   ]
  },
  {
   "cell_type": "code",
   "execution_count": null,
   "id": "8f426800",
   "metadata": {},
   "outputs": [],
   "source": [
    "src = cv2.imread(\"p_3.png\", 1)"
   ]
  },
  {
   "cell_type": "code",
   "execution_count": null,
   "id": "be7a292e",
   "metadata": {},
   "outputs": [],
   "source": [
    "src.shape"
   ]
  },
  {
   "cell_type": "code",
   "execution_count": null,
   "id": "3f21b361",
   "metadata": {},
   "outputs": [],
   "source": [
    "gray = cv2.cvtColor(src, cv2.COLOR_BGR2GRAY) # convert to grayscale\n",
    "2\n",
    "blur = cv2.blur(gray, (3, 3)) # blur the image\n",
    "3\n",
    "ret, thresh = cv2.threshold(blur, 50, 255, cv2.THRESH_BINARY)\n"
   ]
  },
  {
   "cell_type": "code",
   "execution_count": null,
   "id": "b8f26a00",
   "metadata": {},
   "outputs": [],
   "source": [
    "contours, hierarchy = cv2.findContours(thresh, cv2.RETR_TREE, cv2.CHAIN_APPROX_SIMPLE)"
   ]
  },
  {
   "cell_type": "code",
   "execution_count": null,
   "id": "0e4a67db",
   "metadata": {},
   "outputs": [],
   "source": [
    "for i in range(len(contours)):\n",
    "    print(contours[i].shape)"
   ]
  },
  {
   "cell_type": "code",
   "execution_count": null,
   "id": "d5d09675",
   "metadata": {},
   "outputs": [],
   "source": [
    "contours[0]"
   ]
  },
  {
   "cell_type": "code",
   "execution_count": null,
   "id": "434e9b36",
   "metadata": {},
   "outputs": [],
   "source": [
    "# Python3 program to find convex hull of a set of points. Refer\n",
    "# https://www.geeksforgeeks.org/orientation-3-ordered-points/\n",
    "# for explanation of orientation()\n",
    "\n",
    "# point class with x, y as point\n",
    "class Point:\n",
    "\tdef __init__(self, x, y):\n",
    "\t\tself.x = x\n",
    "\t\tself.y = y\n",
    "\n",
    "def Left_index(points):\n",
    "\t\n",
    "\t'''\n",
    "\tFinding the left most point\n",
    "\t'''\n",
    "\tminn = 0\n",
    "\tfor i in range(1,len(points)):\n",
    "\t\tif points[i].x < points[minn].x:\n",
    "\t\t\tminn = i\n",
    "\t\telif points[i].x == points[minn].x:\n",
    "\t\t\tif points[i].y > points[minn].y:\n",
    "\t\t\t\tminn = i\n",
    "\treturn minn\n",
    "\n",
    "def orientation(p, q, r):\n",
    "\t'''\n",
    "\tTo find orientation of ordered triplet (p, q, r).\n",
    "\tThe function returns following values\n",
    "\t0 --> p, q and r are collinear\n",
    "\t1 --> Clockwise\n",
    "\t2 --> Counterclockwise\n",
    "\t'''\n",
    "\tval = (q.y - p.y) * (r.x - q.x) - \\\n",
    "\t\t(q.x - p.x) * (r.y - q.y)\n",
    "\n",
    "\tif val == 0:\n",
    "\t\treturn 0\n",
    "\telif val > 0:\n",
    "\t\treturn 1\n",
    "\telse:\n",
    "\t\treturn 2\n",
    "\n",
    "def convexHull(points, n):\n",
    "\t\n",
    "\t# There must be at least 3 points\n",
    "\tif n < 3:\n",
    "\t\treturn\n",
    "\n",
    "\t# Find the leftmost point\n",
    "\tl = Left_index(points)\n",
    "\n",
    "\thull = []\n",
    "\t\n",
    "\t'''\n",
    "\tStart from leftmost point, keep moving counterclockwise\n",
    "\tuntil reach the start point again. This loop runs O(h)\n",
    "\ttimes where h is number of points in result or output.\n",
    "\t'''\n",
    "\tp = l\n",
    "\tq = 0\n",
    "\twhile(True):\n",
    "\t\t\n",
    "\t\t# Add current point to result\n",
    "\t\thull.append(p)\n",
    "\n",
    "\t\t'''\n",
    "\t\tSearch for a point 'q' such that orientation(p, q,\n",
    "\t\tx) is counterclockwise for all points 'x'. The idea\n",
    "\t\tis to keep track of last visited most counterclock-\n",
    "\t\twise point in q. If any point 'i' is more counterclock-\n",
    "\t\twise than q, then update q.\n",
    "\t\t'''\n",
    "\t\tq = (p + 1) % n\n",
    "\n",
    "\t\tfor i in range(n):\n",
    "\t\t\t\n",
    "\t\t\t# If i is more counterclockwise\n",
    "\t\t\t# than current q, then update q\n",
    "\t\t\tif(orientation(points[p],\n",
    "\t\t\t\t\t\tpoints[i], points[q]) == 2):\n",
    "\t\t\t\tq = i\n",
    "\n",
    "\t\t'''\n",
    "\t\tNow q is the most counterclockwise with respect to p\n",
    "\t\tSet p as q for next iteration, so that q is added to\n",
    "\t\tresult 'hull'\n",
    "\t\t'''\n",
    "\t\tp = q\n",
    "\n",
    "\t\t# While we don't come to first point\n",
    "\t\tif(p == l):\n",
    "\t\t\tbreak\n",
    "\n",
    "\t# Print Result\n",
    "\tfor each in hull:\n",
    "\t\tprint(points[each].x, points[each].y)\n",
    "\n",
    "# Driver Code\n",
    "\n",
    "points = []\n",
    "points.append(Point(0, 0))\n",
    "points.append(Point(4.58, 7.14))\n",
    "points.append(Point(0, 7.14))\n",
    "# points.append(Point(2, 1))\n",
    "# points.append(Point(3, 0))\n",
    "# points.append(Point(0, 0))\n",
    "# points.append(Point(3, 3))\n",
    "\n",
    "convexHull(points, len(points))\n",
    "\n",
    "# This code is contributed by\n",
    "# Akarsh Somani, IIIT Kalyani\n"
   ]
  },
  {
   "cell_type": "code",
   "execution_count": null,
   "id": "b0d18b90",
   "metadata": {},
   "outputs": [],
   "source": [
    "# A Python3 program to find convex hull of a set of points. Refer\n",
    "# https://www.geeksforgeeks.org/orientation-3-ordered-points/\n",
    "# for explanation of orientation()\n",
    "\n",
    "from functools import cmp_to_key\n",
    "\n",
    "# A class used to store the x and y coordinates of points\n",
    "class Point:\n",
    "\tdef __init__(self, x = None, y = None):\n",
    "\t\tself.x = x\n",
    "\t\tself.y = y\n",
    "\n",
    "# A global point needed for sorting points with reference\n",
    "# to the first point\n",
    "p0 = Point(0, 0)\n",
    "\n",
    "# A utility function to find next to top in a stack\n",
    "def nextToTop(S):\n",
    "\treturn S[-2]\n",
    "\n",
    "# A utility function to return square of distance\n",
    "# between p1 and p2\n",
    "def distSq(p1, p2):\n",
    "\treturn ((p1.x - p2.x) * (p1.x - p2.x) +\n",
    "\t\t\t(p1.y - p2.y) * (p1.y - p2.y))\n",
    "\n",
    "# To find orientation of ordered triplet (p, q, r).\n",
    "# The function returns following values\n",
    "# 0 --> p, q and r are collinear\n",
    "# 1 --> Clockwise\n",
    "# 2 --> Counterclockwise\n",
    "def orientation(p, q, r):\n",
    "\tval = ((q.y - p.y) * (r.x - q.x) -\n",
    "\t\t(q.x - p.x) * (r.y - q.y))\n",
    "\tif val == 0:\n",
    "\t\treturn 0 # collinear\n",
    "\telif val > 0:\n",
    "\t\treturn 1 # clock wise\n",
    "\telse:\n",
    "\t\treturn 2 # counterclock wise\n",
    "\n",
    "# A function used by cmp_to_key function to sort an array of\n",
    "# points with respect to the first point\n",
    "def compare(p1, p2):\n",
    "\n",
    "\t# Find orientation\n",
    "\to = orientation(p0, p1, p2)\n",
    "\tif o == 0:\n",
    "\t\tif distSq(p0, p2) >= distSq(p0, p1):\n",
    "\t\t\treturn -1\n",
    "\t\telse:\n",
    "\t\t\treturn 1\n",
    "\telse:\n",
    "\t\tif o == 2:\n",
    "\t\t\treturn -1\n",
    "\t\telse:\n",
    "\t\t\treturn 1\n",
    "\n",
    "# Prints convex hull of a set of n points.\n",
    "def convexHull(points, n):\n",
    "\n",
    "\t# Find the bottommost point\n",
    "\tymin = points[0].y\n",
    "\tmin = 0\n",
    "\tfor i in range(1, n):\n",
    "\t\ty = points[i].y\n",
    "\n",
    "\t\t# Pick the bottom-most or chose the left\n",
    "\t\t# most point in case of tie\n",
    "\t\tif ((y < ymin) or\n",
    "\t\t\t(ymin == y and points[i].x < points[min].x)):\n",
    "\t\t\tymin = points[i].y\n",
    "\t\t\tmin = i\n",
    "\n",
    "\t# Place the bottom-most point at first position\n",
    "\tpoints[0], points[min] = points[min], points[0]\n",
    "\n",
    "\t# Sort n-1 points with respect to the first point.\n",
    "\t# A point p1 comes before p2 in sorted output if p2\n",
    "\t# has larger polar angle (in counterclockwise\n",
    "\t# direction) than p1\n",
    "\tp0 = points[0]\n",
    "\tpoints = sorted(points, key=cmp_to_key(compare))\n",
    "\n",
    "\t# If two or more points make same angle with p0,\n",
    "\t# Remove all but the one that is farthest from p0\n",
    "\t# Remember that, in above sorting, our criteria was\n",
    "\t# to keep the farthest point at the end when more than\n",
    "\t# one points have same angle.\n",
    "\tm = 1 # Initialize size of modified array\n",
    "\tfor i in range(1, n):\n",
    "\t\n",
    "\t\t# Keep removing i while angle of i and i+1 is same\n",
    "\t\t# with respect to p0\n",
    "\t\twhile ((i < n - 1) and\n",
    "\t\t(orientation(p0, points[i], points[i + 1]) == 0)):\n",
    "\t\t\ti += 1\n",
    "\n",
    "\t\tpoints[m] = points[i]\n",
    "\t\tm += 1 # Update size of modified array\n",
    "\n",
    "\t# If modified array of points has less than 3 points,\n",
    "\t# convex hull is not possible\n",
    "\tif m < 3:\n",
    "\t\treturn\n",
    "\n",
    "\t# Create an empty stack and push first three points\n",
    "\t# to it.\n",
    "\tS = []\n",
    "\tS.append(points[0])\n",
    "\tS.append(points[1])\n",
    "\tS.append(points[2])\n",
    "\n",
    "\t# Process remaining n-3 points\n",
    "\tfor i in range(3, m):\n",
    "\t\n",
    "\t\t# Keep removing top while the angle formed by\n",
    "\t\t# points next-to-top, top, and points[i] makes\n",
    "\t\t# a non-left turn\n",
    "\t\twhile ((len(S) > 1) and\n",
    "\t\t(orientation(nextToTop(S), S[-1], points[i]) != 2)):\n",
    "\t\t\tS.pop()\n",
    "\t\tS.append(points[i])\n",
    "\n",
    "\t# Now stack has the output points,\n",
    "\t# print contents of stack\n",
    "\twhile S:\n",
    "\t\tp = S[-1]\n",
    "\t\tprint(\"(\" + str(p.x) + \", \" + str(p.y) + \")\")\n",
    "\t\tS.pop()\n",
    "\n",
    "# Driver Code\n",
    "input_points = [(0, 0), (4.58, 7.14), (0, 7.14)]\n",
    "points = []\n",
    "for point in input_points:\n",
    "\tpoints.append(Point(point[0], point[1]))\n",
    "n = len(points)\n",
    "convexHull(points, n)\n",
    "\n",
    "# This code is contributed by Kevin Joshi\n"
   ]
  },
  {
   "cell_type": "code",
   "execution_count": null,
   "id": "179fcc1d",
   "metadata": {},
   "outputs": [],
   "source": []
  },
  {
   "cell_type": "code",
   "execution_count": null,
   "id": "03cd62e5",
   "metadata": {},
   "outputs": [],
   "source": [
    "a = np.array([[[0., 0.  ]],\n",
    " [[4.58, 7.14]],\n",
    " [[0. ,7.14]],\n",
    "             ])\n",
    "a.shape"
   ]
  }
 ],
 "metadata": {
  "kernelspec": {
   "display_name": "Python 3 (ipykernel)",
   "language": "python",
   "name": "python3"
  },
  "language_info": {
   "codemirror_mode": {
    "name": "ipython",
    "version": 3
   },
   "file_extension": ".py",
   "mimetype": "text/x-python",
   "name": "python",
   "nbconvert_exporter": "python",
   "pygments_lexer": "ipython3",
   "version": "3.8.6"
  }
 },
 "nbformat": 4,
 "nbformat_minor": 5
}
