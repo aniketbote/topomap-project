{
 "cells": [
  {
   "cell_type": "code",
   "execution_count": 1,
   "id": "e629325e",
   "metadata": {},
   "outputs": [],
   "source": [
    "from ripser import Rips\n",
    "from numpy import inf\n",
    "import pandas as pd\n",
    "import numpy as np"
   ]
  },
  {
   "cell_type": "code",
   "execution_count": 2,
   "id": "b469fbec",
   "metadata": {},
   "outputs": [
    {
     "data": {
      "text/plain": [
       "(6, 3)"
      ]
     },
     "execution_count": 2,
     "metadata": {},
     "output_type": "execute_result"
    }
   ],
   "source": [
    "opoints = pd.read_csv('test_data.csv', header = None)\n",
    "opoints = np.array(opoints)\n",
    "opoints.shape"
   ]
  },
  {
   "cell_type": "code",
   "execution_count": 3,
   "id": "52a1da7f",
   "metadata": {},
   "outputs": [
    {
     "data": {
      "text/plain": [
       "array([[10, 14,  5],\n",
       "       [ 1,  2, 12],\n",
       "       [13, 10, 14],\n",
       "       [ 1, 14,  2],\n",
       "       [11,  9, 10],\n",
       "       [ 1, 11,  9]], dtype=int64)"
      ]
     },
     "execution_count": 3,
     "metadata": {},
     "output_type": "execute_result"
    }
   ],
   "source": [
    "opoints"
   ]
  },
  {
   "cell_type": "code",
   "execution_count": 4,
   "id": "0a245ea0",
   "metadata": {},
   "outputs": [
    {
     "data": {
      "text/plain": [
       "(6, 2)"
      ]
     },
     "execution_count": 4,
     "metadata": {},
     "output_type": "execute_result"
    }
   ],
   "source": [
    "tpoints = pd.read_csv('outpy.csv', header = None)\n",
    "tpoints = np.array(tpoints)\n",
    "tpoints.shape"
   ]
  },
  {
   "cell_type": "code",
   "execution_count": 5,
   "id": "09823d8f",
   "metadata": {},
   "outputs": [
    {
     "data": {
      "text/plain": [
       "array([[ 0.00000000e+00,  0.00000000e+00],\n",
       "       [ 1.21706409e+01,  9.49000000e+00],\n",
       "       [ 8.48268825e+00, -1.33226763e-15],\n",
       "       [-0.00000000e+00,  9.49000000e+00],\n",
       "       [ 6.00984010e+00,  3.85505149e+00],\n",
       "       [ 4.77085804e+00,  3.54834084e+00]])"
      ]
     },
     "execution_count": 5,
     "metadata": {},
     "output_type": "execute_result"
    }
   ],
   "source": [
    "tpoints"
   ]
  },
  {
   "cell_type": "code",
   "execution_count": 6,
   "id": "e5b85f52",
   "metadata": {},
   "outputs": [
    {
     "name": "stdout",
     "output_type": "stream",
     "text": [
      "Rips(maxdim=1, thresh=inf, coeff=2, do_cocycles=False, n_perm = None, verbose=True)\n"
     ]
    },
    {
     "data": {
      "image/png": "[encoded data removed]",
      "text/plain": [
       "<Figure size 432x288 with 1 Axes>"
      ]
     },
     "metadata": {
      "needs_background": "light"
     },
     "output_type": "display_data"
    }
   ],
   "source": [
    "rips = Rips()\n",
    "diagrams1 = rips.fit_transform(opoints)\n",
    "rips.plot(diagrams1, xy_range = [-0.5,3,-0.5,3])"
   ]
  },
  {
   "cell_type": "code",
   "execution_count": 7,
   "id": "21428e1e",
   "metadata": {},
   "outputs": [
    {
     "name": "stdout",
     "output_type": "stream",
     "text": [
      "Rips(maxdim=1, thresh=inf, coeff=2, do_cocycles=False, n_perm = None, verbose=True)\n"
     ]
    },
    {
     "data": {
      "image/png": "[encoded data removed]",
      "text/plain": [
       "<Figure size 640x480 with 1 Axes>"
      ]
     },
     "metadata": {},
     "output_type": "display_data"
    }
   ],
   "source": [
    "rips = Rips()\n",
    "diagrams2 = rips.fit_transform(tpoints)\n",
    "rips.plot(diagrams2, xy_range = [-0.5,3,-0.5,3])"
   ]
  },
  {
   "cell_type": "code",
   "execution_count": 8,
   "id": "c5b2251f",
   "metadata": {},
   "outputs": [],
   "source": [
    "def validate_points(a, b, eps = 1e-4):\n",
    "    rips = Rips(verbose = False)\n",
    "    d1 = rips.fit_transform(a)\n",
    "    rips = Rips(verbose = False)\n",
    "    d2 = rips.fit_transform(b)\n",
    "    h0_o = d1[0]\n",
    "    h0_t = d2[0]\n",
    "    h0_o[h0_o == inf] = 999999999\n",
    "    h0_t[h0_t == inf] = 999999999\n",
    "    mask = np.abs(h0_o - h0_t) > eps\n",
    "    if np.sum(mask) == 0:\n",
    "        return True\n",
    "    else:\n",
    "        for c, (i,j) in enumerate(mask):\n",
    "            if i == True or j == True:\n",
    "                print(f\"Original H0: ({h0_o[c][0]:4.4f},{h0_o[c][1]:4.4f})  Transformed H0: ({h0_t[c][0]:4.4f},{h0_t[c][1]:4.4f})\")\n",
    "        return False\n",
    "       "
   ]
  },
  {
   "cell_type": "code",
   "execution_count": 9,
   "id": "ca706ba0",
   "metadata": {},
   "outputs": [
    {
     "name": "stdout",
     "output_type": "stream",
     "text": [
      "Original H0: (0.0000,4.5826)  Transformed H0: (0.0000,1.2764)\n",
      "Original H0: (0.0000,7.1414)  Transformed H0: (0.0000,4.5800)\n",
      "Original H0: (0.0000,7.6158)  Transformed H0: (0.0000,5.9457)\n",
      "Original H0: (0.0000,9.4868)  Transformed H0: (0.0000,7.6200)\n",
      "Original H0: (0.0000,9.4868)  Transformed H0: (0.0000,8.3491)\n"
     ]
    },
    {
     "data": {
      "text/plain": [
       "False"
      ]
     },
     "execution_count": 9,
     "metadata": {},
     "output_type": "execute_result"
    }
   ],
   "source": [
    "validate_points(opoints, tpoints, 1e-4)"
   ]
  },
  {
   "cell_type": "code",
   "execution_count": 8,
   "id": "982d1373",
   "metadata": {},
   "outputs": [],
   "source": [
    "df = pd.read_csv(\"3d-data-6points-seed-10.csv\")\n",
    "df.to_csv(\"test_data.csv\", index = False, header = False)"
   ]
  },
  {
   "cell_type": "code",
   "execution_count": null,
   "id": "d416897b",
   "metadata": {},
   "outputs": [],
   "source": []
  },
  {
   "cell_type": "code",
   "execution_count": null,
   "id": "4aa127b1",
   "metadata": {},
   "outputs": [],
   "source": []
  }
 ],
 "metadata": {
  "kernelspec": {
   "display_name": "Python 3 (ipykernel)",
   "language": "python",
   "name": "python3"
  },
  "language_info": {
   "codemirror_mode": {
    "name": "ipython",
    "version": 3
   },
   "file_extension": ".py",
   "mimetype": "text/x-python",
   "name": "python",
   "nbconvert_exporter": "python",
   "pygments_lexer": "ipython3",
   "version": "3.8.6"
  }
 },
 "nbformat": 4,
 "nbformat_minor": 5
}
